{
 "cells": [
  {
   "cell_type": "code",
   "execution_count": 1,
   "outputs": [],
   "source": [
    "from STTPreProcess import STTPreProcess\n",
    "\n",
    "email = \"dfmce@iscte-iul.pt\"\n",
    "\n",
    "stt_pre_process = STTPreProcess(email=email)"
   ],
   "metadata": {
    "collapsed": false,
    "ExecuteTime": {
     "end_time": "2023-09-01T11:21:46.629163700Z",
     "start_time": "2023-09-01T11:21:44.097604900Z"
    }
   }
  },
  {
   "cell_type": "code",
   "execution_count": 2,
   "outputs": [
    {
     "name": "stdout",
     "output_type": "stream",
     "text": [
      "[\n",
      "{\n",
      "\"stt_name\": \"APP&TOWN COMPAGNON\",\n",
      "\"stt_description\": \"End-to-end assisted transport system for people with disabilities, the elderly, minors and other groups, allowing them to travel on public transport through a mobile app and with continuous monitoring of users from anywhere and on any device.\",\n",
      "\"parties_responsible\": [],\n",
      "\"parties_description\": [],\n",
      "\"urls\": [],\n",
      "\"is_STT\": true,\n",
      "\"STT_dom\": \"Management & Operations\",\n",
      "\"STT_type\": \"Design of tourism products\",\n",
      "\"tech_fields\": [\"Mobile App Development\"],\n",
      "\"SD_declared\": [],\n",
      "\"SD_inferred\": [\"Increased accessibility for marginalized groups\"]\n",
      "}\n",
      "]\n"
     ]
    }
   ],
   "source": [
    "# True - pdf is from Spanish Catalogue; False - pdf is not from Spanish Catalogue\n",
    "response = stt_pre_process.run(\"RandomisedSample/128_APP&TOWN COMPAGNON.pdf\", True)\n",
    "print(response)"
   ],
   "metadata": {
    "collapsed": false,
    "ExecuteTime": {
     "end_time": "2023-09-01T11:22:12.986980700Z",
     "start_time": "2023-09-01T11:21:46.629163700Z"
    }
   }
  },
  {
   "cell_type": "code",
   "execution_count": 3,
   "outputs": [],
   "source": [],
   "metadata": {
    "collapsed": false,
    "ExecuteTime": {
     "end_time": "2023-09-01T11:22:13.097915Z",
     "start_time": "2023-09-01T11:22:13.006569500Z"
    }
   }
  }
 ],
 "metadata": {
  "kernelspec": {
   "display_name": "Python 3",
   "language": "python",
   "name": "python3"
  },
  "language_info": {
   "codemirror_mode": {
    "name": "ipython",
    "version": 2
   },
   "file_extension": ".py",
   "mimetype": "text/x-python",
   "name": "python",
   "nbconvert_exporter": "python",
   "pygments_lexer": "ipython2",
   "version": "2.7.6"
  }
 },
 "nbformat": 4,
 "nbformat_minor": 0
}
