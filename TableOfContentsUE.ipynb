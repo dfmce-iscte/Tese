{
 "cells": [
  {
   "cell_type": "code",
   "execution_count": 213,
   "metadata": {
    "collapsed": true,
    "ExecuteTime": {
     "end_time": "2023-07-11T14:25:04.064859800Z",
     "start_time": "2023-07-11T14:25:04.029310Z"
    }
   },
   "outputs": [],
   "source": [
    "import pandas as pd\n",
    "import PyPDF2, re\n",
    "\n",
    "def getTableOfContents(pdf_path):\n",
    "    pdfReader = PyPDF2.PdfReader(open(pdf_path, 'rb'))\n",
    "\n",
    "    title_and_numPage = []\n",
    "    df = pd.DataFrame(columns=['title', 'numPage', 'nextPage'])\n",
    "\n",
    "\n",
    "    for numPage in range(9,88):\n",
    "        # print(\"Current page: \", numPage + 1)\n",
    "        text = pdfReader.pages[numPage].extract_text()\n",
    "        regex = r\"([0-9]+\\.+([0-9]\\.)*([0-9]* | ))\"\n",
    "\n",
    "        for title in re.findall(regex, text):\n",
    "\n",
    "            if len(title[0].split('.')[0]) > 2:\n",
    "                print(\"Ignore years\")\n",
    "                continue # To ignore cases like \"2020.\"\n",
    "\n",
    "            regex_to_check_invalid_titles = r\"([a-zA-Z,;:] |[a-zA-Z-])\"+title[0]\n",
    "\n",
    "            if len(re.findall(regex_to_check_invalid_titles, text)) > 0:\n",
    "                print(\"Invalid title: \", title[0])\n",
    "                continue\n",
    "\n",
    "\n",
    "            title_and_numPage.append((title[0], numPage + 1))\n",
    "\n",
    "            previousTitle = len(title_and_numPage)-2\n",
    "\n",
    "            if previousTitle < 0 : continue\n",
    "\n",
    "\n",
    "            pattern = r\"\\d+<\" #to remove the page number indicator (example \"35<\")\n",
    "            text = re.sub(pattern,\" \",text)\n",
    "            # print(text)\n",
    "            index = text.find(title[0])\n",
    "\n",
    "            if index > 0 and any(c != ' ' for c in text[:index]): # if the title is not the first word of the page\n",
    "                df.loc[len(df)] = [\n",
    "                    title_and_numPage[previousTitle][0],\n",
    "                    title_and_numPage[previousTitle][1],\n",
    "                    numPage + 1\n",
    "                ]\n",
    "            else:\n",
    "                df.loc[len(df)] = [\n",
    "                    title_and_numPage[previousTitle][0],\n",
    "                    title_and_numPage[previousTitle][1],\n",
    "                    numPage # the previous page\n",
    "                ]\n",
    "\n",
    "            if numPage == 87: # last page\n",
    "                df.loc[len(df)] = [\n",
    "                    title[0],\n",
    "                    numPage + 1,\n",
    "                    numPage + 1\n",
    "                ]\n",
    "\n",
    "    df['title'] = df['title'].apply(lambda x: x.replace('.', '_'))\n",
    "\n",
    "    return df\n",
    "\n"
   ]
  },
  {
   "cell_type": "code",
   "execution_count": 215,
   "outputs": [
    {
     "name": "stdout",
     "output_type": "stream",
     "text": [
      "Invalid title:  2.5 \n",
      "Ignore years\n",
      "Ignore years\n",
      "Ignore years\n",
      "Invalid title:  1. \n",
      "Invalid title:  2. \n",
      "Invalid title:  3. \n",
      "Ignore years\n",
      "Ignore years\n",
      "Invalid title:  19. \n",
      "Ignore years\n",
      "Invalid title:  2. \n",
      "Ignore years\n",
      "Invalid title:  10.000 \n",
      "Ignore years\n",
      "Ignore years\n"
     ]
    }
   ],
   "source": [
    "path = \"Catalogue European.pdf\"\n",
    "\n",
    "result = getTableOfContents(path)"
   ],
   "metadata": {
    "collapsed": false,
    "ExecuteTime": {
     "end_time": "2023-07-11T14:25:29.133346700Z",
     "start_time": "2023-07-11T14:25:22.779007400Z"
    }
   }
  },
  {
   "cell_type": "code",
   "execution_count": 216,
   "outputs": [
    {
     "data": {
      "text/plain": "        title  numPage  nextPage\n0         4_        10        10\n1        4_1        10        10\n2      4_1_1        10        10\n3    4_1_1_1        10        10\n4    4_1_1_2        11        12\n..        ...      ...       ...\n85  4_4_3_11        86        86\n86  4_4_3_12        86        86\n87  4_4_3_13        87        87\n88  4_4_3_14        87        87\n89  4_4_3_15        88        88\n\n[90 rows x 3 columns]",
      "text/html": "<div>\n<style scoped>\n    .dataframe tbody tr th:only-of-type {\n        vertical-align: middle;\n    }\n\n    .dataframe tbody tr th {\n        vertical-align: top;\n    }\n\n    .dataframe thead th {\n        text-align: right;\n    }\n</style>\n<table border=\"1\" class=\"dataframe\">\n  <thead>\n    <tr style=\"text-align: right;\">\n      <th></th>\n      <th>title</th>\n      <th>numPage</th>\n      <th>nextPage</th>\n    </tr>\n  </thead>\n  <tbody>\n    <tr>\n      <th>0</th>\n      <td>4_</td>\n      <td>10</td>\n      <td>10</td>\n    </tr>\n    <tr>\n      <th>1</th>\n      <td>4_1</td>\n      <td>10</td>\n      <td>10</td>\n    </tr>\n    <tr>\n      <th>2</th>\n      <td>4_1_1</td>\n      <td>10</td>\n      <td>10</td>\n    </tr>\n    <tr>\n      <th>3</th>\n      <td>4_1_1_1</td>\n      <td>10</td>\n      <td>10</td>\n    </tr>\n    <tr>\n      <th>4</th>\n      <td>4_1_1_2</td>\n      <td>11</td>\n      <td>12</td>\n    </tr>\n    <tr>\n      <th>...</th>\n      <td>...</td>\n      <td>...</td>\n      <td>...</td>\n    </tr>\n    <tr>\n      <th>85</th>\n      <td>4_4_3_11</td>\n      <td>86</td>\n      <td>86</td>\n    </tr>\n    <tr>\n      <th>86</th>\n      <td>4_4_3_12</td>\n      <td>86</td>\n      <td>86</td>\n    </tr>\n    <tr>\n      <th>87</th>\n      <td>4_4_3_13</td>\n      <td>87</td>\n      <td>87</td>\n    </tr>\n    <tr>\n      <th>88</th>\n      <td>4_4_3_14</td>\n      <td>87</td>\n      <td>87</td>\n    </tr>\n    <tr>\n      <th>89</th>\n      <td>4_4_3_15</td>\n      <td>88</td>\n      <td>88</td>\n    </tr>\n  </tbody>\n</table>\n<p>90 rows × 3 columns</p>\n</div>"
     },
     "execution_count": 216,
     "metadata": {},
     "output_type": "execute_result"
    }
   ],
   "source": [
    "result"
   ],
   "metadata": {
    "collapsed": false,
    "ExecuteTime": {
     "end_time": "2023-07-11T14:25:31.751874300Z",
     "start_time": "2023-07-11T14:25:31.729003600Z"
    }
   }
  },
  {
   "cell_type": "code",
   "execution_count": 218,
   "outputs": [],
   "source": [
    "result.to_csv(\"newUE.csv\")"
   ],
   "metadata": {
    "collapsed": false,
    "ExecuteTime": {
     "end_time": "2023-07-11T14:26:06.272018500Z",
     "start_time": "2023-07-11T14:26:06.242196Z"
    }
   }
  },
  {
   "cell_type": "code",
   "execution_count": null,
   "outputs": [],
   "source": [],
   "metadata": {
    "collapsed": false
   }
  }
 ],
 "metadata": {
  "kernelspec": {
   "display_name": "Python 3",
   "language": "python",
   "name": "python3"
  },
  "language_info": {
   "codemirror_mode": {
    "name": "ipython",
    "version": 2
   },
   "file_extension": ".py",
   "mimetype": "text/x-python",
   "name": "python",
   "nbconvert_exporter": "python",
   "pygments_lexer": "ipython2",
   "version": "2.7.6"
  }
 },
 "nbformat": 4,
 "nbformat_minor": 0
}
