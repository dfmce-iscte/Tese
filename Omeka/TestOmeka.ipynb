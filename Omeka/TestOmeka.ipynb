{
 "cells": [
  {
   "cell_type": "code",
   "execution_count": 1,
   "outputs": [],
   "source": [
    "import Omeka as om\n",
    "import json\n",
    "omeka = om.Omeka('https://resettingstt.omeka.net/api', '517073f39fdd888c9dc06fe35f75ae934ecd3f64')"
   ],
   "metadata": {
    "collapsed": false,
    "ExecuteTime": {
     "end_time": "2023-07-21T13:09:25.811543800Z",
     "start_time": "2023-07-21T13:09:25.691652800Z"
    }
   }
  },
  {
   "cell_type": "code",
   "execution_count": 2,
   "outputs": [
    {
     "name": "stdout",
     "output_type": "stream",
     "text": [
      "{\n",
      "  \"public\": true,\n",
      "  \"item_type\": {\n",
      "        \"id\": 11,\n",
      "        \"url\": \"https:\\/\\/resettingstt.omeka.net\\/api\\/item_types\\/11\",\n",
      "        \"name\": \"Hyperlink\",\n",
      "        \"resource\": \"item_types\"\n",
      "  },\n",
      "  \"element_texts\": [\n",
      "    {\"html\": false, \"text\": \"AVISA APPLICATION: MOBILE APP FOR CITIZEN PARTICIPATION FOR REPORTING URBAN ISSUES\", \"element\": {\"id\": 50, \"name\": \"Title\"}},\n",
      "    {\"html\": false, \"text\": \"Another Spanish STT\", \"element\": {\"id\": 49, \"name\": \"Subject\"}},\n",
      "    {\"html\": false, \"text\": \"This is a description\", \"element\": {\"id\": 41, \"name\": \"Description\"}},\n",
      "    {\"html\": true, \"text\": \"<a href=https://www.w3schools.com/python/python_classes.asp>https://www.w3schools.com/python/python_classes.asp</a>\", \"element\": {\"id\": 28, \"name\": \"URL\"}, \"element_set\": {\"id\": 3, \"url\": \"https://resettingstt.omeka.net/api/element_sets/3\", \"name\": \"Item Type Metadata\"}}\n",
      "  ]\n",
      "}\n",
      "\n",
      "<Response [201]>\n"
     ]
    }
   ],
   "source": [
    "data = \"\"\"{\n",
    "  \"public\": true,\n",
    "  \"item_type\": {\n",
    "        \"id\": 11,\n",
    "        \"url\": \"https:\\/\\/resettingstt.omeka.net\\/api\\/item_types\\/11\",\n",
    "        \"name\": \"Hyperlink\",\n",
    "        \"resource\": \"item_types\"\n",
    "  },\n",
    "  \"element_texts\": [\"\"\" + \\\n",
    "       f\"\"\"\n",
    "    {om.add_element(\"AVISA APPLICATION: MOBILE APP FOR CITIZEN PARTICIPATION FOR REPORTING URBAN ISSUES\", om.TITLE_ELEMENT)},\n",
    "    {om.add_element(\"Another Spanish STT\", om.SUBJECT_ELEMENT)},\n",
    "    {om.add_element(\"This is a description\", om.DESCRIPTION_ELEMENT)},\n",
    "    {om.add_element(\"https://www.w3schools.com/python/python_classes.asp\", om.URL_ELEMENT)}\"\"\"\"\"\"\n",
    "  ]\n",
    "}\n",
    "\"\"\"\n",
    "\n",
    "omeka.post('items',data)"
   ],
   "metadata": {
    "collapsed": false,
    "ExecuteTime": {
     "end_time": "2023-07-21T13:09:26.493186100Z",
     "start_time": "2023-07-21T13:09:25.811543800Z"
    }
   }
  },
  {
   "cell_type": "code",
   "execution_count": 2,
   "outputs": [],
   "source": [],
   "metadata": {
    "collapsed": false,
    "ExecuteTime": {
     "end_time": "2023-07-21T13:09:26.531949800Z",
     "start_time": "2023-07-21T13:09:26.493186100Z"
    }
   }
  }
 ],
 "metadata": {
  "kernelspec": {
   "display_name": "Python 3",
   "language": "python",
   "name": "python3"
  },
  "language_info": {
   "codemirror_mode": {
    "name": "ipython",
    "version": 2
   },
   "file_extension": ".py",
   "mimetype": "text/x-python",
   "name": "python",
   "nbconvert_exporter": "python",
   "pygments_lexer": "ipython2",
   "version": "2.7.6"
  }
 },
 "nbformat": 4,
 "nbformat_minor": 0
}
