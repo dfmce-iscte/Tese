{
 "cells": [
  {
   "cell_type": "code",
   "execution_count": 1,
   "outputs": [],
   "source": [
    "import Omeka as om\n",
    "import json\n",
    "omeka = om.Omeka('https://resettingstt.omeka.net/api', '517073f39fdd888c9dc06fe35f75ae934ecd3f64')"
   ],
   "metadata": {
    "collapsed": false,
    "ExecuteTime": {
     "end_time": "2023-07-24T16:18:22.655088100Z",
     "start_time": "2023-07-24T16:18:22.532042200Z"
    }
   }
  },
  {
   "cell_type": "code",
   "execution_count": 2,
   "outputs": [
    {
     "name": "stdout",
     "output_type": "stream",
     "text": [
      "<Response [201]> \n",
      " {\"id\":47,\"url\":\"https:\\/\\/resettingstt.omeka.net\\/api\\/items\\/47\",\"public\":true,\"featured\":false,\"added\":\"2023-07-24T16:18:22+00:00\",\"modified\":\"2023-07-24T16:18:22+00:00\",\"item_type\":{\"id\":11,\"url\":\"https:\\/\\/resettingstt.omeka.net\\/api\\/item_types\\/11\",\"name\":\"Hyperlink\",\"resource\":\"item_types\"},\"collection\":null,\"owner\":{\"id\":102496,\"url\":\"https:\\/\\/resettingstt.omeka.net\\/api\\/users\\/102496\",\"resource\":\"users\"},\"files\":{\"count\":0,\"url\":\"https:\\/\\/resettingstt.omeka.net\\/api\\/files?item=47\",\"resource\":\"files\"},\"tags\":[],\"element_texts\":[{\"html\":false,\"text\":\"APP&TOWN COMPAGNON\",\"element_set\":{\"id\":1,\"url\":\"https:\\/\\/resettingstt.omeka.net\\/api\\/element_sets\\/1\",\"name\":\"Dublin Core\",\"resource\":\"element_sets\"},\"element\":{\"id\":50,\"url\":\"https:\\/\\/resettingstt.omeka.net\\/api\\/elements\\/50\",\"name\":\"Title\",\"resource\":\"elements\"}},{\"html\":false,\"text\":\"End-to-end assisted transport system for people with disabilities, the elderly, minors and other groups, allowing them to travel on public transport through a mobile app and with continuous monitoring of users from anywhere and on any device\",\"element_set\":{\"id\":1,\"url\":\"https:\\/\\/resettingstt.omeka.net\\/api\\/element_sets\\/1\",\"name\":\"Dublin Core\",\"resource\":\"element_sets\"},\"element\":{\"id\":41,\"url\":\"https:\\/\\/resettingstt.omeka.net\\/api\\/elements\\/41\",\"name\":\"Description\",\"resource\":\"elements\"}},{\"html\":false,\"text\":\"MASS FACTORY URBAN ACCESSIBLE MOBILITY\",\"element_set\":{\"id\":1,\"url\":\"https:\\/\\/resettingstt.omeka.net\\/api\\/element_sets\\/1\",\"name\":\"Dublin Core\",\"resource\":\"element_sets\"},\"element\":{\"id\":39,\"url\":\"https:\\/\\/resettingstt.omeka.net\\/api\\/elements\\/39\",\"name\":\"Creator\",\"resource\":\"elements\"}},{\"html\":false,\"text\":\"Company based on technology stemming from the GABiTAP Group. It develops apps for urban accessibility and mobility, as well as systems based on mobile apps with geolocation and cloud-based processing with Big Data and Business Intelligence support.\",\"element_set\":{\"id\":1,\"url\":\"https:\\/\\/resettingstt.omeka.net\\/api\\/element_sets\\/1\",\"name\":\"Dublin Core\",\"resource\":\"element_sets\"},\"element\":{\"id\":37,\"url\":\"https:\\/\\/resettingstt.omeka.net\\/api\\/elements\\/37\",\"name\":\"Contributor\",\"resource\":\"elements\"}},{\"html\":true,\"text\":\"<a href=http:\\/\\/www.massfactory.com\\/>http:\\/\\/www.massfactory.com\\/<\\/a>\",\"element_set\":{\"id\":3,\"url\":\"https:\\/\\/resettingstt.omeka.net\\/api\\/element_sets\\/3\",\"name\":\"Item Type Metadata\",\"resource\":\"element_sets\"},\"element\":{\"id\":28,\"url\":\"https:\\/\\/resettingstt.omeka.net\\/api\\/elements\\/28\",\"name\":\"URL\",\"resource\":\"elements\"}}],\"extended_resources\":{\"exhibit_pages\":{\"count\":0,\"url\":\"https:\\/\\/resettingstt.omeka.net\\/api\\/exhibit_pages?item=47\",\"resource\":\"exhibit_pages\"}}}\n"
     ]
    }
   ],
   "source": [
    "title = \"APP&TOWN COMPAGNON\"\n",
    "description = \"End-to-end assisted transport system for people with disabilities, the elderly, minors and other groups, allowing them to travel on public transport through a mobile app and with continuous monitoring of users from anywhere and on any device\"\n",
    "creator = \"MASS FACTORY URBAN ACCESSIBLE MOBILITY\"\n",
    "contributor = \"Company based on technology stemming from the GABiTAP Group. It develops apps for urban accessibility and mobility, as well as systems based on mobile apps with geolocation and cloud-based processing with Big Data and Business Intelligence support.\"\n",
    "url = \"http://www.massfactory.com/\"\n",
    "\n",
    "data = {\n",
    "    \"public\": True,\n",
    "    \"item_type\": om.def_itemType_hyperlink(),\n",
    "    \"element_texts\" : [\n",
    "        om.add_element(title, om.TITLE_ELEMENT),\n",
    "        om.add_element(description, om.DESCRIPTION_ELEMENT),\n",
    "        om.add_element(creator, om.CREATOR_ELEMENT),\n",
    "        om.add_element(contributor, om.CONTRIBUTOR_ELEMENT),\n",
    "        om.add_element(url, om.URL_ELEMENT)\n",
    "    ]\n",
    "}\n",
    "\n",
    "omeka.post('items', json.dumps(data))"
   ],
   "metadata": {
    "collapsed": false,
    "ExecuteTime": {
     "end_time": "2023-07-24T16:18:23.363332800Z",
     "start_time": "2023-07-24T16:18:22.663539300Z"
    }
   }
  },
  {
   "cell_type": "code",
   "execution_count": 2,
   "outputs": [],
   "source": [],
   "metadata": {
    "collapsed": false,
    "ExecuteTime": {
     "end_time": "2023-07-24T16:18:23.409721300Z",
     "start_time": "2023-07-24T16:18:23.363332800Z"
    }
   }
  }
 ],
 "metadata": {
  "kernelspec": {
   "display_name": "Python 3",
   "language": "python",
   "name": "python3"
  },
  "language_info": {
   "codemirror_mode": {
    "name": "ipython",
    "version": 2
   },
   "file_extension": ".py",
   "mimetype": "text/x-python",
   "name": "python",
   "nbconvert_exporter": "python",
   "pygments_lexer": "ipython2",
   "version": "2.7.6"
  }
 },
 "nbformat": 4,
 "nbformat_minor": 0
}
